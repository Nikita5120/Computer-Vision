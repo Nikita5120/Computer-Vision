{
  "nbformat": 4,
  "nbformat_minor": 0,
  "metadata": {
    "colab": {
      "provenance": []
    },
    "kernelspec": {
      "name": "python3",
      "display_name": "Python 3"
    },
    "language_info": {
      "name": "python"
    }
  },
  "cells": [
    {
      "cell_type": "markdown",
      "source": [
        "Tensor Initialization"
      ],
      "metadata": {
        "id": "g08mTv_s38jo"
      }
    },
    {
      "cell_type": "markdown",
      "source": [
        "TensorFlow provides convenient functions to initialize tensors with specific values or patterns.\n",
        "\n"
      ],
      "metadata": {
        "id": "H3CNeIRm358Y"
      }
    },
    {
      "cell_type": "markdown",
      "source": [
        "Immutable: Tensors are immutable – you can't change their values once created.\n",
        "\n",
        "Data types: float32, int32, bool, string, etc.\n",
        "\n",
        "TensorFlow automatically picks the appropriate dtype unless specified."
      ],
      "metadata": {
        "id": "qH7zUUOW4HMh"
      }
    },
    {
      "cell_type": "code",
      "source": [
        "pip install tensorflow\n"
      ],
      "metadata": {
        "colab": {
          "base_uri": "https://localhost:8080/"
        },
        "id": "HleD2AbHab9d",
        "outputId": "88603081-6e6c-468b-baf5-b5fa3a51407b"
      },
      "execution_count": 8,
      "outputs": [
        {
          "output_type": "stream",
          "name": "stdout",
          "text": [
            "Requirement already satisfied: tensorflow in /usr/local/lib/python3.11/dist-packages (2.18.0)\n",
            "Requirement already satisfied: absl-py>=1.0.0 in /usr/local/lib/python3.11/dist-packages (from tensorflow) (1.4.0)\n",
            "Requirement already satisfied: astunparse>=1.6.0 in /usr/local/lib/python3.11/dist-packages (from tensorflow) (1.6.3)\n",
            "Requirement already satisfied: flatbuffers>=24.3.25 in /usr/local/lib/python3.11/dist-packages (from tensorflow) (25.2.10)\n",
            "Requirement already satisfied: gast!=0.5.0,!=0.5.1,!=0.5.2,>=0.2.1 in /usr/local/lib/python3.11/dist-packages (from tensorflow) (0.6.0)\n",
            "Requirement already satisfied: google-pasta>=0.1.1 in /usr/local/lib/python3.11/dist-packages (from tensorflow) (0.2.0)\n",
            "Requirement already satisfied: libclang>=13.0.0 in /usr/local/lib/python3.11/dist-packages (from tensorflow) (18.1.1)\n",
            "Requirement already satisfied: opt-einsum>=2.3.2 in /usr/local/lib/python3.11/dist-packages (from tensorflow) (3.4.0)\n",
            "Requirement already satisfied: packaging in /usr/local/lib/python3.11/dist-packages (from tensorflow) (24.2)\n",
            "Requirement already satisfied: protobuf!=4.21.0,!=4.21.1,!=4.21.2,!=4.21.3,!=4.21.4,!=4.21.5,<6.0.0dev,>=3.20.3 in /usr/local/lib/python3.11/dist-packages (from tensorflow) (5.29.4)\n",
            "Requirement already satisfied: requests<3,>=2.21.0 in /usr/local/lib/python3.11/dist-packages (from tensorflow) (2.32.3)\n",
            "Requirement already satisfied: setuptools in /usr/local/lib/python3.11/dist-packages (from tensorflow) (75.2.0)\n",
            "Requirement already satisfied: six>=1.12.0 in /usr/local/lib/python3.11/dist-packages (from tensorflow) (1.17.0)\n",
            "Requirement already satisfied: termcolor>=1.1.0 in /usr/local/lib/python3.11/dist-packages (from tensorflow) (3.0.1)\n",
            "Requirement already satisfied: typing-extensions>=3.6.6 in /usr/local/lib/python3.11/dist-packages (from tensorflow) (4.13.1)\n",
            "Requirement already satisfied: wrapt>=1.11.0 in /usr/local/lib/python3.11/dist-packages (from tensorflow) (1.17.2)\n",
            "Requirement already satisfied: grpcio<2.0,>=1.24.3 in /usr/local/lib/python3.11/dist-packages (from tensorflow) (1.71.0)\n",
            "Requirement already satisfied: tensorboard<2.19,>=2.18 in /usr/local/lib/python3.11/dist-packages (from tensorflow) (2.18.0)\n",
            "Requirement already satisfied: keras>=3.5.0 in /usr/local/lib/python3.11/dist-packages (from tensorflow) (3.8.0)\n",
            "Requirement already satisfied: numpy<2.1.0,>=1.26.0 in /usr/local/lib/python3.11/dist-packages (from tensorflow) (2.0.2)\n",
            "Requirement already satisfied: h5py>=3.11.0 in /usr/local/lib/python3.11/dist-packages (from tensorflow) (3.13.0)\n",
            "Requirement already satisfied: ml-dtypes<0.5.0,>=0.4.0 in /usr/local/lib/python3.11/dist-packages (from tensorflow) (0.4.1)\n",
            "Requirement already satisfied: tensorflow-io-gcs-filesystem>=0.23.1 in /usr/local/lib/python3.11/dist-packages (from tensorflow) (0.37.1)\n",
            "Requirement already satisfied: wheel<1.0,>=0.23.0 in /usr/local/lib/python3.11/dist-packages (from astunparse>=1.6.0->tensorflow) (0.45.1)\n",
            "Requirement already satisfied: rich in /usr/local/lib/python3.11/dist-packages (from keras>=3.5.0->tensorflow) (13.9.4)\n",
            "Requirement already satisfied: namex in /usr/local/lib/python3.11/dist-packages (from keras>=3.5.0->tensorflow) (0.0.8)\n",
            "Requirement already satisfied: optree in /usr/local/lib/python3.11/dist-packages (from keras>=3.5.0->tensorflow) (0.14.1)\n",
            "Requirement already satisfied: charset-normalizer<4,>=2 in /usr/local/lib/python3.11/dist-packages (from requests<3,>=2.21.0->tensorflow) (3.4.1)\n",
            "Requirement already satisfied: idna<4,>=2.5 in /usr/local/lib/python3.11/dist-packages (from requests<3,>=2.21.0->tensorflow) (3.10)\n",
            "Requirement already satisfied: urllib3<3,>=1.21.1 in /usr/local/lib/python3.11/dist-packages (from requests<3,>=2.21.0->tensorflow) (2.3.0)\n",
            "Requirement already satisfied: certifi>=2017.4.17 in /usr/local/lib/python3.11/dist-packages (from requests<3,>=2.21.0->tensorflow) (2025.1.31)\n",
            "Requirement already satisfied: markdown>=2.6.8 in /usr/local/lib/python3.11/dist-packages (from tensorboard<2.19,>=2.18->tensorflow) (3.7)\n",
            "Requirement already satisfied: tensorboard-data-server<0.8.0,>=0.7.0 in /usr/local/lib/python3.11/dist-packages (from tensorboard<2.19,>=2.18->tensorflow) (0.7.2)\n",
            "Requirement already satisfied: werkzeug>=1.0.1 in /usr/local/lib/python3.11/dist-packages (from tensorboard<2.19,>=2.18->tensorflow) (3.1.3)\n",
            "Requirement already satisfied: MarkupSafe>=2.1.1 in /usr/local/lib/python3.11/dist-packages (from werkzeug>=1.0.1->tensorboard<2.19,>=2.18->tensorflow) (3.0.2)\n",
            "Requirement already satisfied: markdown-it-py>=2.2.0 in /usr/local/lib/python3.11/dist-packages (from rich->keras>=3.5.0->tensorflow) (3.0.0)\n",
            "Requirement already satisfied: pygments<3.0.0,>=2.13.0 in /usr/local/lib/python3.11/dist-packages (from rich->keras>=3.5.0->tensorflow) (2.18.0)\n",
            "Requirement already satisfied: mdurl~=0.1 in /usr/local/lib/python3.11/dist-packages (from markdown-it-py>=2.2.0->rich->keras>=3.5.0->tensorflow) (0.1.2)\n"
          ]
        }
      ]
    },
    {
      "cell_type": "code",
      "source": [
        "import tensorflow as tf\n",
        "print(tf.__version__)\n"
      ],
      "metadata": {
        "colab": {
          "base_uri": "https://localhost:8080/"
        },
        "id": "gdEYASEIav8q",
        "outputId": "eb45c473-966c-4c2d-aef5-bae54139c92f"
      },
      "execution_count": 9,
      "outputs": [
        {
          "output_type": "stream",
          "name": "stdout",
          "text": [
            "2.18.0\n"
          ]
        }
      ]
    },
    {
      "cell_type": "markdown",
      "source": [
        "🔹 Using tf.zeros()"
      ],
      "metadata": {
        "id": "x5SqcptX5yGF"
      }
    },
    {
      "cell_type": "code",
      "source": [
        "zeros_tensor = tf.zeros(shape=(2, 3))\n",
        "print(\"Zeros Tensor:\\n\", zeros_tensor)\n"
      ],
      "metadata": {
        "colab": {
          "base_uri": "https://localhost:8080/"
        },
        "id": "BHxHX8hy4Q-e",
        "outputId": "7bf671dd-4b07-4c22-9c74-297a9f36f8da"
      },
      "execution_count": 18,
      "outputs": [
        {
          "output_type": "stream",
          "name": "stdout",
          "text": [
            "Zeros Tensor:\n",
            " tf.Tensor(\n",
            "[[0. 0. 0.]\n",
            " [0. 0. 0.]], shape=(2, 3), dtype=float32)\n"
          ]
        }
      ]
    },
    {
      "cell_type": "markdown",
      "source": [
        "🔹 Using tf.ones()"
      ],
      "metadata": {
        "id": "bYaaDKo54fGg"
      }
    },
    {
      "cell_type": "code",
      "source": [
        "ones_tensor = tf.ones(shape=(3, 2), dtype=tf.float32)\n",
        "print(\"Ones Tensor:\\n\", ones_tensor)\n"
      ],
      "metadata": {
        "colab": {
          "base_uri": "https://localhost:8080/"
        },
        "id": "j5BpEKd14XY4",
        "outputId": "4d5898cf-b643-4ab4-fb99-3313dbf5326f"
      },
      "execution_count": 19,
      "outputs": [
        {
          "output_type": "stream",
          "name": "stdout",
          "text": [
            "Ones Tensor:\n",
            " tf.Tensor(\n",
            "[[1. 1.]\n",
            " [1. 1.]\n",
            " [1. 1.]], shape=(3, 2), dtype=float32)\n"
          ]
        }
      ]
    },
    {
      "cell_type": "markdown",
      "source": [
        "🔹 Using tf.fill()"
      ],
      "metadata": {
        "id": "TJ3_Ii4t4kT1"
      }
    },
    {
      "cell_type": "code",
      "source": [
        "fill_tensor = tf.fill(dims=(2, 2), value=7)\n",
        "print(\"Filled Tensor with 7:\\n\", fill_tensor)\n"
      ],
      "metadata": {
        "colab": {
          "base_uri": "https://localhost:8080/"
        },
        "id": "V4ln1Dld4mB-",
        "outputId": "7647cf49-c297-4b46-f9a8-e9e3376b68d2"
      },
      "execution_count": 20,
      "outputs": [
        {
          "output_type": "stream",
          "name": "stdout",
          "text": [
            "Filled Tensor with 7:\n",
            " tf.Tensor(\n",
            "[[7 7]\n",
            " [7 7]], shape=(2, 2), dtype=int32)\n"
          ]
        }
      ]
    },
    {
      "cell_type": "markdown",
      "source": [
        "🔹 Using tf.eye()\n"
      ],
      "metadata": {
        "id": "Im3iohUn4rBL"
      }
    },
    {
      "cell_type": "code",
      "source": [
        "identity_tensor = tf.eye(num_rows=3)\n",
        "print(\"Identity Matrix:\\n\", identity_tensor)\n"
      ],
      "metadata": {
        "colab": {
          "base_uri": "https://localhost:8080/"
        },
        "id": "9_xRVOXY4rmp",
        "outputId": "a1fc3057-ec76-4604-8855-2a27718764da"
      },
      "execution_count": 21,
      "outputs": [
        {
          "output_type": "stream",
          "name": "stdout",
          "text": [
            "Identity Matrix:\n",
            " tf.Tensor(\n",
            "[[1. 0. 0.]\n",
            " [0. 1. 0.]\n",
            " [0. 0. 1.]], shape=(3, 3), dtype=float32)\n"
          ]
        }
      ]
    },
    {
      "cell_type": "markdown",
      "source": [
        "🔹 Using tf.random.uniform()\n"
      ],
      "metadata": {
        "id": "4Tl9oAcH4vdX"
      }
    },
    {
      "cell_type": "code",
      "source": [
        "uniform_tensor = tf.random.uniform(shape=(3, 3), minval=0, maxval=10, dtype=tf.int32)\n",
        "print(\"Uniform Random Tensor:\\n\", uniform_tensor)\n"
      ],
      "metadata": {
        "colab": {
          "base_uri": "https://localhost:8080/"
        },
        "id": "W31FNLb54y79",
        "outputId": "537ee2fa-d88b-49af-afc2-94bf4ee74d2c"
      },
      "execution_count": 22,
      "outputs": [
        {
          "output_type": "stream",
          "name": "stdout",
          "text": [
            "Uniform Random Tensor:\n",
            " tf.Tensor(\n",
            "[[3 0 0]\n",
            " [5 8 6]\n",
            " [6 7 9]], shape=(3, 3), dtype=int32)\n"
          ]
        }
      ]
    },
    {
      "cell_type": "markdown",
      "source": [
        "🔹 Using tf.random.normal()\n"
      ],
      "metadata": {
        "id": "GHNakyVM43CJ"
      }
    },
    {
      "cell_type": "code",
      "source": [
        "normal_tensor = tf.random.normal(shape=(2, 3), mean=0.0, stddev=1.0)\n",
        "print(\"Normal Random Tensor:\\n\", normal_tensor)\n"
      ],
      "metadata": {
        "colab": {
          "base_uri": "https://localhost:8080/"
        },
        "id": "L-PWfXK143nb",
        "outputId": "08f469da-f334-4dca-8a70-73035d19debc"
      },
      "execution_count": 23,
      "outputs": [
        {
          "output_type": "stream",
          "name": "stdout",
          "text": [
            "Normal Random Tensor:\n",
            " tf.Tensor(\n",
            "[[ 0.26243776  1.2721373  -0.14437445]\n",
            " [ 0.7142779   1.3713346  -0.5449332 ]], shape=(2, 3), dtype=float32)\n"
          ]
        }
      ]
    },
    {
      "cell_type": "markdown",
      "source": [
        "Tensor Casting"
      ],
      "metadata": {
        "id": "Uz5iUq_d6Xqu"
      }
    },
    {
      "cell_type": "markdown",
      "source": [
        "🔹 Using tf.cast()\n",
        "\n"
      ],
      "metadata": {
        "id": "Kua9R2_a6dN2"
      }
    },
    {
      "cell_type": "code",
      "source": [
        "float_tensor = tf.constant([1.5, 2.3, 3.7], dtype=tf.float32)\n",
        "int_tensor = tf.cast(float_tensor, dtype=tf.int32)\n",
        "print(\"Original float tensor:\", float_tensor)\n",
        "print(\"Casted to int tensor:\", int_tensor)\n"
      ],
      "metadata": {
        "colab": {
          "base_uri": "https://localhost:8080/"
        },
        "id": "aNi9dKZk46u6",
        "outputId": "ff5495ce-0362-470f-e2c4-7087901270b4"
      },
      "execution_count": 24,
      "outputs": [
        {
          "output_type": "stream",
          "name": "stdout",
          "text": [
            "Original float tensor: tf.Tensor([1.5 2.3 3.7], shape=(3,), dtype=float32)\n",
            "Casted to int tensor: tf.Tensor([1 2 3], shape=(3,), dtype=int32)\n"
          ]
        }
      ]
    },
    {
      "cell_type": "markdown",
      "source": [
        "🔹 Boolean Casting Example\n",
        "\n"
      ],
      "metadata": {
        "id": "2tg4V-aG6iOo"
      }
    },
    {
      "cell_type": "code",
      "source": [
        "bool_tensor = tf.cast([0, 1, 2], tf.bool)\n",
        "print(\"Boolean tensor:\", bool_tensor)  # [False, True, True]\n"
      ],
      "metadata": {
        "colab": {
          "base_uri": "https://localhost:8080/"
        },
        "id": "O7z8e_p06jiR",
        "outputId": "1c73543b-d7cf-4b1d-a532-4b6ec2eca748"
      },
      "execution_count": 25,
      "outputs": [
        {
          "output_type": "stream",
          "name": "stdout",
          "text": [
            "Boolean tensor: tf.Tensor([False  True  True], shape=(3,), dtype=bool)\n"
          ]
        }
      ]
    },
    {
      "cell_type": "markdown",
      "source": [
        "Why Casting Matters:"
      ],
      "metadata": {
        "id": "uj-mA_qn6n1F"
      }
    },
    {
      "cell_type": "markdown",
      "source": [
        "Casting helps in type compatibility between tensors.\n",
        "\n",
        "Crucial in model building when input/output types must match expected types.\n",
        "\n"
      ],
      "metadata": {
        "id": "ltBC_XkT6q6-"
      }
    },
    {
      "cell_type": "code",
      "source": [
        "# Challenge: Create a 4x4 identity matrix, multiply it by 5.5, then cast to int\n",
        "matrix = tf.eye(4) * 5.5\n",
        "matrix_int = tf.cast(matrix, dtype=tf.int32)\n",
        "print(\"Original Matrix:\\n\", matrix)\n",
        "print(\"Casted to int:\\n\", matrix_int)\n"
      ],
      "metadata": {
        "colab": {
          "base_uri": "https://localhost:8080/"
        },
        "id": "l8m9Eqea6spY",
        "outputId": "a3cbcf6a-1e59-434e-cea1-8d9ebf735057"
      },
      "execution_count": 26,
      "outputs": [
        {
          "output_type": "stream",
          "name": "stdout",
          "text": [
            "Original Matrix:\n",
            " tf.Tensor(\n",
            "[[5.5 0.  0.  0. ]\n",
            " [0.  5.5 0.  0. ]\n",
            " [0.  0.  5.5 0. ]\n",
            " [0.  0.  0.  5.5]], shape=(4, 4), dtype=float32)\n",
            "Casted to int:\n",
            " tf.Tensor(\n",
            "[[5 0 0 0]\n",
            " [0 5 0 0]\n",
            " [0 0 5 0]\n",
            " [0 0 0 5]], shape=(4, 4), dtype=int32)\n"
          ]
        }
      ]
    },
    {
      "cell_type": "code",
      "source": [],
      "metadata": {
        "id": "gYvp0WiR6uEk"
      },
      "execution_count": null,
      "outputs": []
    }
  ]
}