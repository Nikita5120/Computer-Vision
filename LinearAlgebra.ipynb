{
  "nbformat": 4,
  "nbformat_minor": 0,
  "metadata": {
    "colab": {
      "provenance": []
    },
    "kernelspec": {
      "name": "python3",
      "display_name": "Python 3"
    },
    "language_info": {
      "name": "python"
    }
  },
  "cells": [
    {
      "cell_type": "markdown",
      "source": [
        "Math Operations with Tensors"
      ],
      "metadata": {
        "id": "g08mTv_s38jo"
      }
    },
    {
      "cell_type": "markdown",
      "source": [
        "Element-wise operations\n",
        "\n",
        "Broadcasting\n",
        "\n",
        "Aggregation\n",
        "\n",
        "Comparison\n",
        "\n",
        "Tensor-wise mathematical functions\n",
        "\n",
        "These operations are foundational for building and training models, where tensors undergo transformations, normalizations, and computations like matrix multiplication, loss calculations, etc.\n",
        "\n"
      ],
      "metadata": {
        "id": "H3CNeIRm358Y"
      }
    },
    {
      "cell_type": "markdown",
      "source": [
        "📌 Why Linear Algebra?\n",
        "Neural networks rely heavily on matrix operations. Every layer, activation, and weight update internally uses matrix math:\n",
        "\n",
        "Inputs are vectors\n",
        "\n",
        "Weights are matrices\n",
        "\n",
        "Outputs are matrix products\n",
        "\n",
        "Understanding this is key to debugging and designing efficient models.\n",
        "\n"
      ],
      "metadata": {
        "id": "qH7zUUOW4HMh"
      }
    },
    {
      "cell_type": "markdown",
      "source": [
        "🔢 1. Dot Product (Scalar Product)\n",
        "Definition: For two vectors of the same length, the dot product is the sum of products of corresponding elements.\n",
        "\n",
        "Formula:\n",
        "If\n",
        "a = [a1, a2]\n",
        "b = [b1, b2]\n",
        "then\n",
        "dot(a, b) = a1*b1 + a2*b2"
      ],
      "metadata": {
        "id": "_7J-YKlnMQJx"
      }
    },
    {
      "cell_type": "code",
      "source": [
        "pip install tensorflow\n"
      ],
      "metadata": {
        "colab": {
          "base_uri": "https://localhost:8080/"
        },
        "id": "HleD2AbHab9d",
        "outputId": "063b4f2c-ccfa-4cdf-b1fb-d387a9080ce1"
      },
      "execution_count": 2,
      "outputs": [
        {
          "output_type": "stream",
          "name": "stdout",
          "text": [
            "Requirement already satisfied: tensorflow in /usr/local/lib/python3.11/dist-packages (2.18.0)\n",
            "Requirement already satisfied: absl-py>=1.0.0 in /usr/local/lib/python3.11/dist-packages (from tensorflow) (1.4.0)\n",
            "Requirement already satisfied: astunparse>=1.6.0 in /usr/local/lib/python3.11/dist-packages (from tensorflow) (1.6.3)\n",
            "Requirement already satisfied: flatbuffers>=24.3.25 in /usr/local/lib/python3.11/dist-packages (from tensorflow) (25.2.10)\n",
            "Requirement already satisfied: gast!=0.5.0,!=0.5.1,!=0.5.2,>=0.2.1 in /usr/local/lib/python3.11/dist-packages (from tensorflow) (0.6.0)\n",
            "Requirement already satisfied: google-pasta>=0.1.1 in /usr/local/lib/python3.11/dist-packages (from tensorflow) (0.2.0)\n",
            "Requirement already satisfied: libclang>=13.0.0 in /usr/local/lib/python3.11/dist-packages (from tensorflow) (18.1.1)\n",
            "Requirement already satisfied: opt-einsum>=2.3.2 in /usr/local/lib/python3.11/dist-packages (from tensorflow) (3.4.0)\n",
            "Requirement already satisfied: packaging in /usr/local/lib/python3.11/dist-packages (from tensorflow) (24.2)\n",
            "Requirement already satisfied: protobuf!=4.21.0,!=4.21.1,!=4.21.2,!=4.21.3,!=4.21.4,!=4.21.5,<6.0.0dev,>=3.20.3 in /usr/local/lib/python3.11/dist-packages (from tensorflow) (5.29.4)\n",
            "Requirement already satisfied: requests<3,>=2.21.0 in /usr/local/lib/python3.11/dist-packages (from tensorflow) (2.32.3)\n",
            "Requirement already satisfied: setuptools in /usr/local/lib/python3.11/dist-packages (from tensorflow) (75.2.0)\n",
            "Requirement already satisfied: six>=1.12.0 in /usr/local/lib/python3.11/dist-packages (from tensorflow) (1.17.0)\n",
            "Requirement already satisfied: termcolor>=1.1.0 in /usr/local/lib/python3.11/dist-packages (from tensorflow) (3.0.1)\n",
            "Requirement already satisfied: typing-extensions>=3.6.6 in /usr/local/lib/python3.11/dist-packages (from tensorflow) (4.13.1)\n",
            "Requirement already satisfied: wrapt>=1.11.0 in /usr/local/lib/python3.11/dist-packages (from tensorflow) (1.17.2)\n",
            "Requirement already satisfied: grpcio<2.0,>=1.24.3 in /usr/local/lib/python3.11/dist-packages (from tensorflow) (1.71.0)\n",
            "Requirement already satisfied: tensorboard<2.19,>=2.18 in /usr/local/lib/python3.11/dist-packages (from tensorflow) (2.18.0)\n",
            "Requirement already satisfied: keras>=3.5.0 in /usr/local/lib/python3.11/dist-packages (from tensorflow) (3.8.0)\n",
            "Requirement already satisfied: numpy<2.1.0,>=1.26.0 in /usr/local/lib/python3.11/dist-packages (from tensorflow) (2.0.2)\n",
            "Requirement already satisfied: h5py>=3.11.0 in /usr/local/lib/python3.11/dist-packages (from tensorflow) (3.13.0)\n",
            "Requirement already satisfied: ml-dtypes<0.5.0,>=0.4.0 in /usr/local/lib/python3.11/dist-packages (from tensorflow) (0.4.1)\n",
            "Requirement already satisfied: tensorflow-io-gcs-filesystem>=0.23.1 in /usr/local/lib/python3.11/dist-packages (from tensorflow) (0.37.1)\n",
            "Requirement already satisfied: wheel<1.0,>=0.23.0 in /usr/local/lib/python3.11/dist-packages (from astunparse>=1.6.0->tensorflow) (0.45.1)\n",
            "Requirement already satisfied: rich in /usr/local/lib/python3.11/dist-packages (from keras>=3.5.0->tensorflow) (13.9.4)\n",
            "Requirement already satisfied: namex in /usr/local/lib/python3.11/dist-packages (from keras>=3.5.0->tensorflow) (0.0.8)\n",
            "Requirement already satisfied: optree in /usr/local/lib/python3.11/dist-packages (from keras>=3.5.0->tensorflow) (0.14.1)\n",
            "Requirement already satisfied: charset-normalizer<4,>=2 in /usr/local/lib/python3.11/dist-packages (from requests<3,>=2.21.0->tensorflow) (3.4.1)\n",
            "Requirement already satisfied: idna<4,>=2.5 in /usr/local/lib/python3.11/dist-packages (from requests<3,>=2.21.0->tensorflow) (3.10)\n",
            "Requirement already satisfied: urllib3<3,>=1.21.1 in /usr/local/lib/python3.11/dist-packages (from requests<3,>=2.21.0->tensorflow) (2.3.0)\n",
            "Requirement already satisfied: certifi>=2017.4.17 in /usr/local/lib/python3.11/dist-packages (from requests<3,>=2.21.0->tensorflow) (2025.1.31)\n",
            "Requirement already satisfied: markdown>=2.6.8 in /usr/local/lib/python3.11/dist-packages (from tensorboard<2.19,>=2.18->tensorflow) (3.7)\n",
            "Requirement already satisfied: tensorboard-data-server<0.8.0,>=0.7.0 in /usr/local/lib/python3.11/dist-packages (from tensorboard<2.19,>=2.18->tensorflow) (0.7.2)\n",
            "Requirement already satisfied: werkzeug>=1.0.1 in /usr/local/lib/python3.11/dist-packages (from tensorboard<2.19,>=2.18->tensorflow) (3.1.3)\n",
            "Requirement already satisfied: MarkupSafe>=2.1.1 in /usr/local/lib/python3.11/dist-packages (from werkzeug>=1.0.1->tensorboard<2.19,>=2.18->tensorflow) (3.0.2)\n",
            "Requirement already satisfied: markdown-it-py>=2.2.0 in /usr/local/lib/python3.11/dist-packages (from rich->keras>=3.5.0->tensorflow) (3.0.0)\n",
            "Requirement already satisfied: pygments<3.0.0,>=2.13.0 in /usr/local/lib/python3.11/dist-packages (from rich->keras>=3.5.0->tensorflow) (2.18.0)\n",
            "Requirement already satisfied: mdurl~=0.1 in /usr/local/lib/python3.11/dist-packages (from markdown-it-py>=2.2.0->rich->keras>=3.5.0->tensorflow) (0.1.2)\n"
          ]
        }
      ]
    },
    {
      "cell_type": "code",
      "source": [
        "import tensorflow as tf\n",
        "print(tf.__version__)\n"
      ],
      "metadata": {
        "colab": {
          "base_uri": "https://localhost:8080/"
        },
        "id": "gdEYASEIav8q",
        "outputId": "dadb8f30-3928-4823-f4c0-e489320f8cbd"
      },
      "execution_count": 3,
      "outputs": [
        {
          "output_type": "stream",
          "name": "stdout",
          "text": [
            "2.18.0\n"
          ]
        }
      ]
    },
    {
      "cell_type": "code",
      "source": [
        "a = tf.constant([2, 3])\n",
        "b = tf.constant([4, 5])\n",
        "dot_result = tf.tensordot(a, b, axes=1)  # Scalar output\n",
        "print(\"Dot Product:\", dot_result.numpy())  # Output: 2*4 + 3*5 = 8 + 15 = 23\n"
      ],
      "metadata": {
        "colab": {
          "base_uri": "https://localhost:8080/"
        },
        "id": "BHxHX8hy4Q-e",
        "outputId": "14235a94-7ebd-44a0-e9eb-0e936db33ded"
      },
      "execution_count": 4,
      "outputs": [
        {
          "output_type": "stream",
          "name": "stdout",
          "text": [
            "Dot Product: 23\n"
          ]
        }
      ]
    },
    {
      "cell_type": "markdown",
      "source": [
        "🧮 2. Matrix Multiplication (matmul)\n"
      ],
      "metadata": {
        "id": "bYaaDKo54fGg"
      }
    },
    {
      "cell_type": "markdown",
      "source": [
        "Unlike element-wise multiplication, tf.matmul follows matrix multiplication rules:\n",
        "\n",
        "(m x n) * (n x p) = (m x p)\n",
        "\n"
      ],
      "metadata": {
        "id": "Gs5mBXn3OoOo"
      }
    },
    {
      "cell_type": "code",
      "source": [
        "A = tf.constant([[1, 2], [3, 4]])\n",
        "B = tf.constant([[5, 6], [7, 8]])\n",
        "C = tf.matmul(A, B)\n",
        "print(\"Matrix Multiplication:\\n\", C.numpy())\n"
      ],
      "metadata": {
        "colab": {
          "base_uri": "https://localhost:8080/"
        },
        "id": "j5BpEKd14XY4",
        "outputId": "b989a943-59e5-4c5f-bafe-4ee08d7d458f"
      },
      "execution_count": 5,
      "outputs": [
        {
          "output_type": "stream",
          "name": "stdout",
          "text": [
            "Matrix Multiplication:\n",
            " [[19 22]\n",
            " [43 50]]\n"
          ]
        }
      ]
    },
    {
      "cell_type": "markdown",
      "source": [
        "🧠 Question Tip: What’s the difference between tf.matmul() and tf.multiply()?\n",
        "\n",
        "matmul: real matrix multiplication\n",
        "\n",
        "multiply: element-wise\n",
        "\n"
      ],
      "metadata": {
        "id": "TJ3_Ii4t4kT1"
      }
    },
    {
      "cell_type": "markdown",
      "source": [
        "🔁 3. Transpose of a Matrix\n"
      ],
      "metadata": {
        "id": "lfdurBTcOzZt"
      }
    },
    {
      "cell_type": "markdown",
      "source": [
        "Interchange of rows and columns.\n",
        "\n",
        "\n"
      ],
      "metadata": {
        "id": "PRXjECAhO1ny"
      }
    },
    {
      "cell_type": "code",
      "source": [
        "A = tf.constant([[1, 2], [3, 4]])\n",
        "print(\"Transpose:\\n\", tf.transpose(A).numpy())\n"
      ],
      "metadata": {
        "colab": {
          "base_uri": "https://localhost:8080/"
        },
        "id": "V4ln1Dld4mB-",
        "outputId": "2712063e-b8d3-4c25-d7af-5c454838448d"
      },
      "execution_count": 6,
      "outputs": [
        {
          "output_type": "stream",
          "name": "stdout",
          "text": [
            "Transpose:\n",
            " [[1 3]\n",
            " [2 4]]\n"
          ]
        }
      ]
    },
    {
      "cell_type": "markdown",
      "source": [
        "🔄 4. Matrix Inverse\n"
      ],
      "metadata": {
        "id": "Im3iohUn4rBL"
      }
    },
    {
      "cell_type": "markdown",
      "source": [
        "Only square matrices with non-zero determinants have an inverse.\n",
        "\n",
        "\n"
      ],
      "metadata": {
        "id": "SLnZKG2MO9DN"
      }
    },
    {
      "cell_type": "code",
      "source": [
        "A = tf.constant([[4., 7.], [2., 6.]])\n",
        "inv_A = tf.linalg.inv(A)\n",
        "print(\"Inverse:\\n\", inv_A.numpy())\n"
      ],
      "metadata": {
        "colab": {
          "base_uri": "https://localhost:8080/"
        },
        "id": "9_xRVOXY4rmp",
        "outputId": "28d01826-fbfc-4516-b853-b566453837ee"
      },
      "execution_count": 7,
      "outputs": [
        {
          "output_type": "stream",
          "name": "stdout",
          "text": [
            "Inverse:\n",
            " [[ 0.6 -0.7]\n",
            " [-0.2  0.4]]\n"
          ]
        }
      ]
    },
    {
      "cell_type": "markdown",
      "source": [
        "🧩 5. Matrix Determinant\n"
      ],
      "metadata": {
        "id": "4Tl9oAcH4vdX"
      }
    },
    {
      "cell_type": "markdown",
      "source": [
        "Gives information like whether the matrix is invertible.\n"
      ],
      "metadata": {
        "id": "ezZAsFpTPEMl"
      }
    },
    {
      "cell_type": "code",
      "source": [
        "det = tf.linalg.det(A)\n",
        "print(\"Determinant:\", det.numpy())\n"
      ],
      "metadata": {
        "colab": {
          "base_uri": "https://localhost:8080/"
        },
        "id": "W31FNLb54y79",
        "outputId": "740e9eed-1100-4e2d-9157-8ba1f7b8d1dd"
      },
      "execution_count": 8,
      "outputs": [
        {
          "output_type": "stream",
          "name": "stdout",
          "text": [
            "Determinant: 10.0\n"
          ]
        }
      ]
    },
    {
      "cell_type": "markdown",
      "source": [
        "🧱 6. Identity and Diagonal Matrices\n",
        "\n"
      ],
      "metadata": {
        "id": "GHNakyVM43CJ"
      }
    },
    {
      "cell_type": "code",
      "source": [
        "identity = tf.eye(3)\n",
        "print(\"3x3 Identity Matrix:\\n\", identity.numpy())\n",
        "\n",
        "diag = tf.linalg.diag([1, 2, 3])\n",
        "print(\"Diagonal Matrix:\\n\", diag.numpy())\n"
      ],
      "metadata": {
        "colab": {
          "base_uri": "https://localhost:8080/"
        },
        "id": "L-PWfXK143nb",
        "outputId": "64305cdd-7e46-4ba7-cf75-20d91b45169d"
      },
      "execution_count": 9,
      "outputs": [
        {
          "output_type": "stream",
          "name": "stdout",
          "text": [
            "3x3 Identity Matrix:\n",
            " [[1. 0. 0.]\n",
            " [0. 1. 0.]\n",
            " [0. 0. 1.]]\n",
            "Diagonal Matrix:\n",
            " [[1 0 0]\n",
            " [0 2 0]\n",
            " [0 0 3]]\n"
          ]
        }
      ]
    },
    {
      "cell_type": "markdown",
      "source": [
        "🧮 7. Solving Linear Systems\n"
      ],
      "metadata": {
        "id": "Uz5iUq_d6Xqu"
      }
    },
    {
      "cell_type": "markdown",
      "source": [
        "To solve Ax = b, use:\n",
        "\n"
      ],
      "metadata": {
        "id": "Kua9R2_a6dN2"
      }
    },
    {
      "cell_type": "code",
      "source": [
        "A = tf.constant([[3., 1.], [1., 2.]])\n",
        "b = tf.constant([[9.], [8.]])\n",
        "x = tf.linalg.solve(A, b)\n",
        "print(\"Solution x:\\n\", x.numpy())\n"
      ],
      "metadata": {
        "colab": {
          "base_uri": "https://localhost:8080/"
        },
        "id": "aNi9dKZk46u6",
        "outputId": "d21dd7a8-4225-4508-a46d-5ff3879e38e1"
      },
      "execution_count": 10,
      "outputs": [
        {
          "output_type": "stream",
          "name": "stdout",
          "text": [
            "Solution x:\n",
            " [[2.]\n",
            " [3.]]\n"
          ]
        }
      ]
    },
    {
      "cell_type": "markdown",
      "source": [
        "This is used in training to find optimal weights (minimizing loss often involves solving systems)."
      ],
      "metadata": {
        "id": "2tg4V-aG6iOo"
      }
    },
    {
      "cell_type": "code",
      "source": [
        "import tensorflow as tf\n",
        "\n",
        "# Vectors\n",
        "a = tf.constant([2, 3])\n",
        "b = tf.constant([4, 5])\n",
        "print(\"Dot Product:\", tf.tensordot(a, b, axes=1).numpy())\n",
        "\n",
        "# Matrices\n",
        "A = tf.constant([[1., 2.], [3., 4.]])\n",
        "B = tf.constant([[5., 6.], [7., 8.]])\n",
        "print(\"Matrix Multiplication:\\n\", tf.matmul(A, B).numpy())\n",
        "\n",
        "# Transpose\n",
        "print(\"Transpose of A:\\n\", tf.transpose(A).numpy())\n",
        "\n",
        "# Inverse\n",
        "A_inv = tf.linalg.inv(tf.constant([[4., 7.], [2., 6.]]))\n",
        "print(\"Inverse of A:\\n\", A_inv.numpy())\n",
        "\n",
        "# Determinant\n",
        "print(\"Determinant of A:\", tf.linalg.det(A).numpy())\n",
        "\n",
        "# Identity\n",
        "print(\"Identity Matrix:\\n\", tf.eye(3).numpy())\n",
        "\n",
        "# Diagonal\n",
        "print(\"Diagonal Matrix:\\n\", tf.linalg.diag([1, 2, 3]).numpy())\n",
        "\n",
        "# Solving linear system\n",
        "A_sys = tf.constant([[3., 1.], [1., 2.]])\n",
        "b_sys = tf.constant([[9.], [8.]])\n",
        "solution = tf.linalg.solve(A_sys, b_sys)\n",
        "print(\"Solution of Ax=b:\\n\", solution.numpy())\n"
      ],
      "metadata": {
        "colab": {
          "base_uri": "https://localhost:8080/"
        },
        "id": "O7z8e_p06jiR",
        "outputId": "80af80da-4451-4931-f705-88bdec38abe7"
      },
      "execution_count": 11,
      "outputs": [
        {
          "output_type": "stream",
          "name": "stdout",
          "text": [
            "Dot Product: 23\n",
            "Matrix Multiplication:\n",
            " [[19. 22.]\n",
            " [43. 50.]]\n",
            "Transpose of A:\n",
            " [[1. 3.]\n",
            " [2. 4.]]\n",
            "Inverse of A:\n",
            " [[ 0.6 -0.7]\n",
            " [-0.2  0.4]]\n",
            "Determinant of A: -2.0\n",
            "Identity Matrix:\n",
            " [[1. 0. 0.]\n",
            " [0. 1. 0.]\n",
            " [0. 0. 1.]]\n",
            "Diagonal Matrix:\n",
            " [[1 0 0]\n",
            " [0 2 0]\n",
            " [0 0 3]]\n",
            "Solution of Ax=b:\n",
            " [[2.]\n",
            " [3.]]\n"
          ]
        }
      ]
    },
    {
      "cell_type": "code",
      "source": [],
      "metadata": {
        "id": "gYvp0WiR6uEk"
      },
      "execution_count": null,
      "outputs": []
    }
  ]
}