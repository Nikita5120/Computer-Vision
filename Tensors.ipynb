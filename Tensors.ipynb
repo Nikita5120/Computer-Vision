{
  "nbformat": 4,
  "nbformat_minor": 0,
  "metadata": {
    "colab": {
      "provenance": []
    },
    "kernelspec": {
      "name": "python3",
      "display_name": "Python 3"
    },
    "language_info": {
      "name": "python"
    }
  },
  "cells": [
    {
      "cell_type": "markdown",
      "source": [
        "What is a Tensor?"
      ],
      "metadata": {
        "id": "g08mTv_s38jo"
      }
    },
    {
      "cell_type": "markdown",
      "source": [
        "A tensor is a generalization of scalars, vectors, and matrices to potentially higher dimensions. In TensorFlow, tensors are the primary data structure used to represent all data, similar to NumPy arrays."
      ],
      "metadata": {
        "id": "H3CNeIRm358Y"
      }
    },
    {
      "cell_type": "markdown",
      "source": [
        "Immutable: Tensors are immutable – you can't change their values once created.\n",
        "\n",
        "Data types: float32, int32, bool, string, etc.\n",
        "\n",
        "TensorFlow automatically picks the appropriate dtype unless specified."
      ],
      "metadata": {
        "id": "qH7zUUOW4HMh"
      }
    },
    {
      "cell_type": "code",
      "source": [
        "pip install tensorflow\n"
      ],
      "metadata": {
        "colab": {
          "base_uri": "https://localhost:8080/"
        },
        "id": "HleD2AbHab9d",
        "outputId": "88603081-6e6c-468b-baf5-b5fa3a51407b"
      },
      "execution_count": 8,
      "outputs": [
        {
          "output_type": "stream",
          "name": "stdout",
          "text": [
            "Requirement already satisfied: tensorflow in /usr/local/lib/python3.11/dist-packages (2.18.0)\n",
            "Requirement already satisfied: absl-py>=1.0.0 in /usr/local/lib/python3.11/dist-packages (from tensorflow) (1.4.0)\n",
            "Requirement already satisfied: astunparse>=1.6.0 in /usr/local/lib/python3.11/dist-packages (from tensorflow) (1.6.3)\n",
            "Requirement already satisfied: flatbuffers>=24.3.25 in /usr/local/lib/python3.11/dist-packages (from tensorflow) (25.2.10)\n",
            "Requirement already satisfied: gast!=0.5.0,!=0.5.1,!=0.5.2,>=0.2.1 in /usr/local/lib/python3.11/dist-packages (from tensorflow) (0.6.0)\n",
            "Requirement already satisfied: google-pasta>=0.1.1 in /usr/local/lib/python3.11/dist-packages (from tensorflow) (0.2.0)\n",
            "Requirement already satisfied: libclang>=13.0.0 in /usr/local/lib/python3.11/dist-packages (from tensorflow) (18.1.1)\n",
            "Requirement already satisfied: opt-einsum>=2.3.2 in /usr/local/lib/python3.11/dist-packages (from tensorflow) (3.4.0)\n",
            "Requirement already satisfied: packaging in /usr/local/lib/python3.11/dist-packages (from tensorflow) (24.2)\n",
            "Requirement already satisfied: protobuf!=4.21.0,!=4.21.1,!=4.21.2,!=4.21.3,!=4.21.4,!=4.21.5,<6.0.0dev,>=3.20.3 in /usr/local/lib/python3.11/dist-packages (from tensorflow) (5.29.4)\n",
            "Requirement already satisfied: requests<3,>=2.21.0 in /usr/local/lib/python3.11/dist-packages (from tensorflow) (2.32.3)\n",
            "Requirement already satisfied: setuptools in /usr/local/lib/python3.11/dist-packages (from tensorflow) (75.2.0)\n",
            "Requirement already satisfied: six>=1.12.0 in /usr/local/lib/python3.11/dist-packages (from tensorflow) (1.17.0)\n",
            "Requirement already satisfied: termcolor>=1.1.0 in /usr/local/lib/python3.11/dist-packages (from tensorflow) (3.0.1)\n",
            "Requirement already satisfied: typing-extensions>=3.6.6 in /usr/local/lib/python3.11/dist-packages (from tensorflow) (4.13.1)\n",
            "Requirement already satisfied: wrapt>=1.11.0 in /usr/local/lib/python3.11/dist-packages (from tensorflow) (1.17.2)\n",
            "Requirement already satisfied: grpcio<2.0,>=1.24.3 in /usr/local/lib/python3.11/dist-packages (from tensorflow) (1.71.0)\n",
            "Requirement already satisfied: tensorboard<2.19,>=2.18 in /usr/local/lib/python3.11/dist-packages (from tensorflow) (2.18.0)\n",
            "Requirement already satisfied: keras>=3.5.0 in /usr/local/lib/python3.11/dist-packages (from tensorflow) (3.8.0)\n",
            "Requirement already satisfied: numpy<2.1.0,>=1.26.0 in /usr/local/lib/python3.11/dist-packages (from tensorflow) (2.0.2)\n",
            "Requirement already satisfied: h5py>=3.11.0 in /usr/local/lib/python3.11/dist-packages (from tensorflow) (3.13.0)\n",
            "Requirement already satisfied: ml-dtypes<0.5.0,>=0.4.0 in /usr/local/lib/python3.11/dist-packages (from tensorflow) (0.4.1)\n",
            "Requirement already satisfied: tensorflow-io-gcs-filesystem>=0.23.1 in /usr/local/lib/python3.11/dist-packages (from tensorflow) (0.37.1)\n",
            "Requirement already satisfied: wheel<1.0,>=0.23.0 in /usr/local/lib/python3.11/dist-packages (from astunparse>=1.6.0->tensorflow) (0.45.1)\n",
            "Requirement already satisfied: rich in /usr/local/lib/python3.11/dist-packages (from keras>=3.5.0->tensorflow) (13.9.4)\n",
            "Requirement already satisfied: namex in /usr/local/lib/python3.11/dist-packages (from keras>=3.5.0->tensorflow) (0.0.8)\n",
            "Requirement already satisfied: optree in /usr/local/lib/python3.11/dist-packages (from keras>=3.5.0->tensorflow) (0.14.1)\n",
            "Requirement already satisfied: charset-normalizer<4,>=2 in /usr/local/lib/python3.11/dist-packages (from requests<3,>=2.21.0->tensorflow) (3.4.1)\n",
            "Requirement already satisfied: idna<4,>=2.5 in /usr/local/lib/python3.11/dist-packages (from requests<3,>=2.21.0->tensorflow) (3.10)\n",
            "Requirement already satisfied: urllib3<3,>=1.21.1 in /usr/local/lib/python3.11/dist-packages (from requests<3,>=2.21.0->tensorflow) (2.3.0)\n",
            "Requirement already satisfied: certifi>=2017.4.17 in /usr/local/lib/python3.11/dist-packages (from requests<3,>=2.21.0->tensorflow) (2025.1.31)\n",
            "Requirement already satisfied: markdown>=2.6.8 in /usr/local/lib/python3.11/dist-packages (from tensorboard<2.19,>=2.18->tensorflow) (3.7)\n",
            "Requirement already satisfied: tensorboard-data-server<0.8.0,>=0.7.0 in /usr/local/lib/python3.11/dist-packages (from tensorboard<2.19,>=2.18->tensorflow) (0.7.2)\n",
            "Requirement already satisfied: werkzeug>=1.0.1 in /usr/local/lib/python3.11/dist-packages (from tensorboard<2.19,>=2.18->tensorflow) (3.1.3)\n",
            "Requirement already satisfied: MarkupSafe>=2.1.1 in /usr/local/lib/python3.11/dist-packages (from werkzeug>=1.0.1->tensorboard<2.19,>=2.18->tensorflow) (3.0.2)\n",
            "Requirement already satisfied: markdown-it-py>=2.2.0 in /usr/local/lib/python3.11/dist-packages (from rich->keras>=3.5.0->tensorflow) (3.0.0)\n",
            "Requirement already satisfied: pygments<3.0.0,>=2.13.0 in /usr/local/lib/python3.11/dist-packages (from rich->keras>=3.5.0->tensorflow) (2.18.0)\n",
            "Requirement already satisfied: mdurl~=0.1 in /usr/local/lib/python3.11/dist-packages (from markdown-it-py>=2.2.0->rich->keras>=3.5.0->tensorflow) (0.1.2)\n"
          ]
        }
      ]
    },
    {
      "cell_type": "code",
      "source": [
        "import tensorflow as tf\n",
        "print(tf.__version__)\n"
      ],
      "metadata": {
        "colab": {
          "base_uri": "https://localhost:8080/"
        },
        "id": "gdEYASEIav8q",
        "outputId": "eb45c473-966c-4c2d-aef5-bae54139c92f"
      },
      "execution_count": 9,
      "outputs": [
        {
          "output_type": "stream",
          "name": "stdout",
          "text": [
            "2.18.0\n"
          ]
        }
      ]
    },
    {
      "cell_type": "markdown",
      "source": [
        "Creating Tensors"
      ],
      "metadata": {
        "id": "74WfBKH04PZZ"
      }
    },
    {
      "cell_type": "markdown",
      "source": [
        "🔹 Scalar Tensor (Rank-0)\n",
        "\n"
      ],
      "metadata": {
        "id": "miUrooYB4UJm"
      }
    },
    {
      "cell_type": "code",
      "source": [
        "scalar = tf.constant(5)\n",
        "print(\"Scalar Tensor:\", scalar)\n",
        "print(\"Shape:\", scalar.shape)\n",
        "print(\"Rank (ndim):\", scalar.ndim)\n",
        "print(\"Data type:\", scalar.dtype)\n"
      ],
      "metadata": {
        "colab": {
          "base_uri": "https://localhost:8080/"
        },
        "id": "BHxHX8hy4Q-e",
        "outputId": "f43690e5-4717-4889-9be8-bdaf535c9e6f"
      },
      "execution_count": 10,
      "outputs": [
        {
          "output_type": "stream",
          "name": "stdout",
          "text": [
            "Scalar Tensor: tf.Tensor(5, shape=(), dtype=int32)\n",
            "Shape: ()\n",
            "Rank (ndim): 0\n",
            "Data type: <dtype: 'int32'>\n"
          ]
        }
      ]
    },
    {
      "cell_type": "markdown",
      "source": [
        "🔹 Vector Tensor (Rank-1)\n",
        "\n",
        "\n"
      ],
      "metadata": {
        "id": "bYaaDKo54fGg"
      }
    },
    {
      "cell_type": "code",
      "source": [
        "vector = tf.constant([10.5, 20.3, 30.1])\n",
        "print(\"\\nVector Tensor:\", vector)\n",
        "print(\"Shape:\", vector.shape)\n",
        "print(\"Rank:\", vector.ndim)\n"
      ],
      "metadata": {
        "colab": {
          "base_uri": "https://localhost:8080/"
        },
        "id": "j5BpEKd14XY4",
        "outputId": "11f48208-9ef7-444d-9f47-1e59fec6aa1d"
      },
      "execution_count": 11,
      "outputs": [
        {
          "output_type": "stream",
          "name": "stdout",
          "text": [
            "\n",
            "Vector Tensor: tf.Tensor([10.5 20.3 30.1], shape=(3,), dtype=float32)\n",
            "Shape: (3,)\n",
            "Rank: 1\n"
          ]
        }
      ]
    },
    {
      "cell_type": "markdown",
      "source": [
        "🔹 Matrix Tensor (Rank-2)\n",
        "\n"
      ],
      "metadata": {
        "id": "TJ3_Ii4t4kT1"
      }
    },
    {
      "cell_type": "code",
      "source": [
        "matrix = tf.constant([[1, 2], [3, 4]])\n",
        "print(\"\\nMatrix Tensor:\\n\", matrix)\n",
        "print(\"Shape:\", matrix.shape)\n",
        "print(\"Rank:\", matrix.ndim)\n"
      ],
      "metadata": {
        "colab": {
          "base_uri": "https://localhost:8080/"
        },
        "id": "V4ln1Dld4mB-",
        "outputId": "b04c8688-e63b-4e13-8c52-ecbcd48d59b6"
      },
      "execution_count": 12,
      "outputs": [
        {
          "output_type": "stream",
          "name": "stdout",
          "text": [
            "\n",
            "Matrix Tensor:\n",
            " tf.Tensor(\n",
            "[[1 2]\n",
            " [3 4]], shape=(2, 2), dtype=int32)\n",
            "Shape: (2, 2)\n",
            "Rank: 2\n"
          ]
        }
      ]
    },
    {
      "cell_type": "markdown",
      "source": [
        "🔹 3D Tensor (Rank-3)"
      ],
      "metadata": {
        "id": "Im3iohUn4rBL"
      }
    },
    {
      "cell_type": "code",
      "source": [
        "tensor3d = tf.constant([\n",
        "    [[1, 2], [3, 4]],\n",
        "    [[5, 6], [7, 8]]\n",
        "])\n",
        "print(\"\\n3D Tensor:\\n\", tensor3d)\n",
        "print(\"Shape:\", tensor3d.shape)\n",
        "print(\"Rank:\", tensor3d.ndim)\n"
      ],
      "metadata": {
        "colab": {
          "base_uri": "https://localhost:8080/"
        },
        "id": "9_xRVOXY4rmp",
        "outputId": "29d9ffe8-3715-48b7-eb3d-af50ca2ed95d"
      },
      "execution_count": 13,
      "outputs": [
        {
          "output_type": "stream",
          "name": "stdout",
          "text": [
            "\n",
            "3D Tensor:\n",
            " tf.Tensor(\n",
            "[[[1 2]\n",
            "  [3 4]]\n",
            "\n",
            " [[5 6]\n",
            "  [7 8]]], shape=(2, 2, 2), dtype=int32)\n",
            "Shape: (2, 2, 2)\n",
            "Rank: 3\n"
          ]
        }
      ]
    },
    {
      "cell_type": "markdown",
      "source": [
        "Check Tensor Attributes\n"
      ],
      "metadata": {
        "id": "4Tl9oAcH4vdX"
      }
    },
    {
      "cell_type": "code",
      "source": [
        "print(\"DType of tensor3d:\", tensor3d.dtype)\n",
        "print(\"Size of tensor3d:\", tf.size(tensor3d).numpy())  # Total elements\n",
        "print(\"Number of dimensions:\", tf.rank(tensor3d).numpy())  # Tensor rank\n"
      ],
      "metadata": {
        "colab": {
          "base_uri": "https://localhost:8080/"
        },
        "id": "W31FNLb54y79",
        "outputId": "91afe24b-8651-4332-9a99-f31437c5d464"
      },
      "execution_count": 14,
      "outputs": [
        {
          "output_type": "stream",
          "name": "stdout",
          "text": [
            "DType of tensor3d: <dtype: 'int32'>\n",
            "Size of tensor3d: 8\n",
            "Number of dimensions: 3\n"
          ]
        }
      ]
    },
    {
      "cell_type": "markdown",
      "source": [
        "Custom DType Example"
      ],
      "metadata": {
        "id": "GHNakyVM43CJ"
      }
    },
    {
      "cell_type": "code",
      "source": [
        "tensor_str = tf.constant([\"Hello\", \"World\"], dtype=tf.string)\n",
        "print(\"\\nString Tensor:\", tensor_str)\n"
      ],
      "metadata": {
        "colab": {
          "base_uri": "https://localhost:8080/"
        },
        "id": "L-PWfXK143nb",
        "outputId": "9ff9435c-2fc7-4e1c-a519-2e4b15a44843"
      },
      "execution_count": 15,
      "outputs": [
        {
          "output_type": "stream",
          "name": "stdout",
          "text": [
            "\n",
            "String Tensor: tf.Tensor([b'Hello' b'World'], shape=(2,), dtype=string)\n"
          ]
        }
      ]
    },
    {
      "cell_type": "code",
      "source": [
        "tensor_bool = tf.constant([True, False])\n",
        "print(\"Boolean Tensor:\", tensor_bool)\n"
      ],
      "metadata": {
        "colab": {
          "base_uri": "https://localhost:8080/"
        },
        "id": "6OxZb6Gf45vj",
        "outputId": "7630f88d-92c5-44e1-c1b9-015591cf17da"
      },
      "execution_count": 16,
      "outputs": [
        {
          "output_type": "stream",
          "name": "stdout",
          "text": [
            "Boolean Tensor: tf.Tensor([ True False], shape=(2,), dtype=bool)\n"
          ]
        }
      ]
    },
    {
      "cell_type": "code",
      "source": [
        "# Challenge: Create a 4x4 matrix with float values from 1 to 16\n",
        "tensor = tf.constant([[float(i + j*4 + 1) for i in range(4)] for j in range(4)])\n",
        "print(\"4x4 Matrix:\\n\", tensor)\n",
        "print(\"Shape:\", tensor.shape)\n"
      ],
      "metadata": {
        "colab": {
          "base_uri": "https://localhost:8080/"
        },
        "id": "aNi9dKZk46u6",
        "outputId": "459efa12-07c2-4263-b7d3-918ddf77ee3a"
      },
      "execution_count": 17,
      "outputs": [
        {
          "output_type": "stream",
          "name": "stdout",
          "text": [
            "4x4 Matrix:\n",
            " tf.Tensor(\n",
            "[[ 1.  2.  3.  4.]\n",
            " [ 5.  6.  7.  8.]\n",
            " [ 9. 10. 11. 12.]\n",
            " [13. 14. 15. 16.]], shape=(4, 4), dtype=float32)\n",
            "Shape: (4, 4)\n"
          ]
        }
      ]
    },
    {
      "cell_type": "code",
      "source": [],
      "metadata": {
        "id": "PXOm72N749jl"
      },
      "execution_count": null,
      "outputs": []
    }
  ]
}